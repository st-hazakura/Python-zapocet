{
 "cells": [
  {
   "cell_type": "code",
   "execution_count": 8,
   "metadata": {},
   "outputs": [],
   "source": [
    "import numpy as np\n",
    "import matplotlib.pyplot as plt\n",
    "from copy import deepcopy\n",
    "import io\n",
    "import imageio"
   ]
  },
  {
   "cell_type": "markdown",
   "metadata": {},
   "source": [
    "z_b - ziva bunka, zs - zivy soused, m_b - mrtva bunka\n",
    "\n",
    "zemre: 1) z_b s < 2 zs 2) z_b s > 3 zs\n",
    "\n",
    "zustava:  z_b s 2,3 zs\n",
    "\n",
    "ozive m_b s 3 z_s"
   ]
  },
  {
   "cell_type": "code",
   "execution_count": 9,
   "metadata": {},
   "outputs": [],
   "source": [
    "def osud_bunky(hodnota_bunky, pocet_sousedu):\n",
    "    if hodnota_bunky == 0 and pocet_sousedu == 3:\n",
    "        hodnota_bunky = 1\n",
    "    \n",
    "    if hodnota_bunky == 1 and (pocet_sousedu < 2 or pocet_sousedu > 3):\n",
    "        hodnota_bunky = 0\n",
    "    \n",
    "    return hodnota_bunky"
   ]
  },
  {
   "cell_type": "code",
   "execution_count": 10,
   "metadata": {},
   "outputs": [],
   "source": [
    "def zobrazeni_gif(pole):\n",
    "    plt.figure(figsize=(6, 6))\n",
    "    plt.imshow(pole, cmap='gray')\n",
    "    plt.axis('off')\n",
    "    # Сохраняем изображение в буфер вместо файла\n",
    "    buf = io.BytesIO()\n",
    "    plt.savefig(buf, format='png')\n",
    "    buf.seek(0)\n",
    "    image = imageio.imread(buf)\n",
    "    IMAGES.append(image)\n",
    "    buf.close()\n",
    "    plt.close()"
   ]
  },
  {
   "cell_type": "markdown",
   "metadata": {},
   "source": [
    "blikac"
   ]
  },
  {
   "cell_type": "code",
   "execution_count": 11,
   "metadata": {},
   "outputs": [],
   "source": [
    "# vyska, sirka = 5,5\n",
    "# pole = np.zeros((vyska, sirka))\n",
    "# pole[1:4, 2] = 1\n",
    "# pole"
   ]
  },
  {
   "cell_type": "markdown",
   "metadata": {},
   "source": [
    "nah"
   ]
  },
  {
   "cell_type": "code",
   "execution_count": 12,
   "metadata": {},
   "outputs": [],
   "source": [
    "vyska, sirka = 100, 100\n",
    "pole = np.array([[np.random.randint(0,2) for i in range (vyska)] for j in range(sirka)], dtype = int)"
   ]
  },
  {
   "cell_type": "code",
   "execution_count": 13,
   "metadata": {},
   "outputs": [],
   "source": [
    "# IMAGES = []\n",
    "\n",
    "# pocet_iterace = 150\n",
    "# for _ in range(pocet_iterace):\n",
    "#     novy_stav_pole = deepcopy(pole)\n",
    "#     for i in range(1, vyska-1):\n",
    "#         for j in range(1, sirka-1):\n",
    "#             pocet_zs = np.sum(pole[i-1: i+2, j-1:j+2]) - pole[i,j]\n",
    "#             nova_hodnota_bunky = osud_bunky(pole[i,j], pocet_zs)\n",
    "#             novy_stav_pole[i,j] = nova_hodnota_bunky\n",
    "#     pole = deepcopy(novy_stav_pole)\n",
    "    \n",
    "#     zobrazeni_gif(pole)\n",
    "\n",
    "# imageio.mimsave('nahodne_bunky.gif', IMAGES, fps=10)  "
   ]
  },
  {
   "cell_type": "code",
   "execution_count": 14,
   "metadata": {},
   "outputs": [
    {
     "name": "stderr",
     "output_type": "stream",
     "text": [
      "C:\\Users\\Home\\AppData\\Local\\Temp\\ipykernel_20020\\2175153147.py:9: DeprecationWarning: Starting with ImageIO v3 the behavior of this function will switch to that of iio.v3.imread. To keep the current behavior (and make this warning disappear) use `import imageio.v2 as imageio` or call `imageio.v2.imread` directly.\n",
      "  image = imageio.imread(buf)\n"
     ]
    }
   ],
   "source": [
    "IMAGES = []\n",
    "\n",
    "pocet_iterace = 150\n",
    "for _ in range(pocet_iterace):\n",
    "    novy_stav_pole = deepcopy(pole)\n",
    "    for i in range(vyska):\n",
    "        for j in range(sirka):\n",
    "            pocet_zs = (\n",
    "                pole[(i-1) % vyska, (j-1) % sirka] + pole[(i-1) % vyska, j % sirka] + pole[(i-1) % vyska, (j+1) % sirka] +\n",
    "                pole[i % vyska, (j-1) % sirka] + pole[i % vyska, (j+1) % sirka] +\n",
    "                pole[(i+1) % vyska, (j-1) % sirka] + pole[(i+1) % vyska, j % sirka] + pole[(i+1) % vyska, (j+1) % sirka]\n",
    "            )\n",
    "            nova_hodnota_bunky = osud_bunky(pole[i, j], pocet_zs)\n",
    "            novy_stav_pole[i, j] = nova_hodnota_bunky\n",
    "    pole = deepcopy(novy_stav_pole)\n",
    "    \n",
    "    zobrazeni_gif(pole)\n",
    "\n",
    "imageio.mimsave('okr_podm.gif', IMAGES, fps=10)  "
   ]
  }
 ],
 "metadata": {
  "kernelspec": {
   "display_name": ".venv",
   "language": "python",
   "name": "python3"
  },
  "language_info": {
   "codemirror_mode": {
    "name": "ipython",
    "version": 3
   },
   "file_extension": ".py",
   "mimetype": "text/x-python",
   "name": "python",
   "nbconvert_exporter": "python",
   "pygments_lexer": "ipython3",
   "version": "3.12.3"
  }
 },
 "nbformat": 4,
 "nbformat_minor": 2
}
